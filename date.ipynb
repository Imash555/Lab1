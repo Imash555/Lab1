{
 "cells": [
  {
   "cell_type": "code",
   "execution_count": 2,
   "metadata": {},
   "outputs": [
    {
     "name": "stdout",
     "output_type": "stream",
     "text": [
      "2025-02-15 20:24:22.208248\n"
     ]
    }
   ],
   "source": [
    "from datetime import datetime, timedelta\n",
    "\n",
    "f = datetime.now()\n",
    "\n",
    "g = f - timedelta(days=5)\n",
    "print(g)"
   ]
  },
  {
   "cell_type": "code",
   "execution_count": 4,
   "metadata": {},
   "outputs": [
    {
     "name": "stdout",
     "output_type": "stream",
     "text": [
      "2025 - 02 - 20\n",
      "2025 - 02 - 19\n",
      "2025 - 02 - 21\n"
     ]
    }
   ],
   "source": [
    "from datetime import datetime, timedelta\n",
    "\n",
    "a = datetime.now()\n",
    "b = a - timedelta(days = 1)\n",
    "c =  a + timedelta(days = 1)\n",
    "\n",
    "print(a.strftime(\"%Y - %m - %d\"))\n",
    "print(b.strftime(\"%Y - %m - %d\"))\n",
    "print(c.strftime(\"%Y - %m - %d\"))"
   ]
  },
  {
   "cell_type": "code",
   "execution_count": 5,
   "metadata": {},
   "outputs": [
    {
     "name": "stdout",
     "output_type": "stream",
     "text": [
      "2025-02-20 20:34:40\n"
     ]
    }
   ],
   "source": [
    "from datetime import datetime, timedelta\n",
    "\n",
    "x = datetime.now()\n",
    "\n",
    "print(x. replace(microsecond = 0))"
   ]
  },
  {
   "cell_type": "code",
   "execution_count": 8,
   "metadata": {},
   "outputs": [
    {
     "name": "stdout",
     "output_type": "stream",
     "text": [
      "32144470.0\n"
     ]
    }
   ],
   "source": [
    "from datetime import datetime, timedelta\n",
    "\n",
    "x = datetime(2025, 4, 30, 13, 34, 22)\n",
    "f = datetime(2024, 4, 23, 12, 33, 12)\n",
    "\n",
    "d = (x - f).total_seconds()\n",
    "\n",
    "print(d)"
   ]
  }
 ],
 "metadata": {
  "kernelspec": {
   "display_name": "Python 3",
   "language": "python",
   "name": "python3"
  },
  "language_info": {
   "codemirror_mode": {
    "name": "ipython",
    "version": 3
   },
   "file_extension": ".py",
   "mimetype": "text/x-python",
   "name": "python",
   "nbconvert_exporter": "python",
   "pygments_lexer": "ipython3",
   "version": "3.9.6"
  }
 },
 "nbformat": 4,
 "nbformat_minor": 2
}
