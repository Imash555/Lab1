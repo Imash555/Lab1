{
 "cells": [
  {
   "cell_type": "code",
   "execution_count": 2,
   "metadata": {},
   "outputs": [
    {
     "name": "stdout",
     "output_type": "stream",
     "text": [
      "1 4 9 16 25 "
     ]
    }
   ],
   "source": [
    "def square(n):\n",
    "    for i in range(1, n + 1):\n",
    "        yield i ** 2\n",
    "\n",
    "n = int(input())\n",
    "\n",
    "for num in square(n):\n",
    "    print(num, end= \" \")\n",
    "\n"
   ]
  },
  {
   "cell_type": "code",
   "execution_count": 5,
   "metadata": {},
   "outputs": [
    {
     "name": "stdout",
     "output_type": "stream",
     "text": [
      "0, 2, 4, 6, 8, 10, 12, 14, 16, 18, 20, 22, 24, 26, 28, 30, "
     ]
    }
   ],
   "source": [
    "def even(n):\n",
    "    for i in range (0, n+1):\n",
    "        if(i % 2 ==0):\n",
    "            yield i\n",
    "\n",
    "\n",
    "n = int(input())\n",
    "\n",
    "for num in even(n):\n",
    "    print(num, end = \", \")"
   ]
  },
  {
   "cell_type": "code",
   "execution_count": 6,
   "metadata": {},
   "outputs": [
    {
     "name": "stdout",
     "output_type": "stream",
     "text": [
      "12, 24, 36, "
     ]
    }
   ],
   "source": [
    "def div(n):\n",
    "    for i in range(1, n+1):\n",
    "        if (i % 3 == 0 and i % 4 == 0):\n",
    "            yield i\n",
    "\n",
    "n = int(input())\n",
    "\n",
    "for num in div(n):\n",
    "    print(num, end = \", \")"
   ]
  },
  {
   "cell_type": "code",
   "execution_count": 2,
   "metadata": {},
   "outputs": [
    {
     "name": "stdout",
     "output_type": "stream",
     "text": [
      "1, 4, 9, 16, 25, 36, 49, "
     ]
    }
   ],
   "source": [
    "def quadro(a, b):\n",
    "    for i in range(a, b):\n",
    "        yield i ** 2\n",
    "\n",
    "a = int(input())\n",
    "b = int(input())\n",
    "\n",
    "for num in quadro(a, b):\n",
    "    print(num, end = \", \")"
   ]
  },
  {
   "cell_type": "code",
   "execution_count": 11,
   "metadata": {},
   "outputs": [
    {
     "name": "stdout",
     "output_type": "stream",
     "text": [
      "5, 4, 3, 2, 1, 0, "
     ]
    }
   ],
   "source": [
    "def zero(n):\n",
    "    for i in range(n , -1, -1):\n",
    "        yield i\n",
    "\n",
    "n = int(input())\n",
    "\n",
    "for num in zero(n):\n",
    "    print(num, end = \", \")"
   ]
  }
 ],
 "metadata": {
  "kernelspec": {
   "display_name": "Python 3",
   "language": "python",
   "name": "python3"
  },
  "language_info": {
   "codemirror_mode": {
    "name": "ipython",
    "version": 3
   },
   "file_extension": ".py",
   "mimetype": "text/x-python",
   "name": "python",
   "nbconvert_exporter": "python",
   "pygments_lexer": "ipython3",
   "version": "3.9.6"
  }
 },
 "nbformat": 4,
 "nbformat_minor": 2
}
