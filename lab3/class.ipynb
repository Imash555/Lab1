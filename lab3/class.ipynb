{
 "cells": [
  {
   "cell_type": "code",
   "execution_count": null,
   "metadata": {},
   "outputs": [],
   "source": [
    "class String:\n",
    "    def __init__(self,string):\n",
    "        self.string=string\n",
    "    def getString(self):\n",
    "        print(self.string)\n",
    "    def printString(self):\n",
    "        print(self.string.upper())\n",
    "n=str(input())\n",
    "string=String(n)\n",
    "string.getString()\n",
    "string.printString()"
   ]
  },
  {
   "cell_type": "code",
   "execution_count": 5,
   "metadata": {},
   "outputs": [
    {
     "data": {
      "text/plain": [
       "81"
      ]
     },
     "execution_count": 5,
     "metadata": {},
     "output_type": "execute_result"
    }
   ],
   "source": [
    "class Shape:\n",
    "    def __init__(self,length):\n",
    "        self.length=length\n",
    "    \n",
    "    \n",
    "class Square(Shape):\n",
    "    def __init__(self, length):\n",
    "        Shape.__init__(self,length)\n",
    "    def Area(self):\n",
    "        return self.length*self.length\n",
    " \n",
    "\n",
    "n=Square(9)\n",
    "n.Area()"
   ]
  },
  {
   "cell_type": "code",
   "execution_count": 7,
   "metadata": {},
   "outputs": [
    {
     "data": {
      "text/plain": [
       "20"
      ]
     },
     "execution_count": 7,
     "metadata": {},
     "output_type": "execute_result"
    }
   ],
   "source": [
    "class Rectangle(Shape):\n",
    "    def __init__(self, length,width):\n",
    "        super().__init__(length)\n",
    "        self.width=width\n",
    "    def Area(self):\n",
    "        return self.length*self.width\n",
    "    \n",
    "n=Rectangle(4,5)\n",
    "n.Area()\n",
    "    "
   ]
  },
  {
   "cell_type": "code",
   "execution_count": 9,
   "metadata": {},
   "outputs": [
    {
     "name": "stdout",
     "output_type": "stream",
     "text": [
      "(3, 4)\n",
      "(4, 8)\n",
      "3.0\n"
     ]
    }
   ],
   "source": [
    "from math import sqrt\n",
    "class Point():\n",
    "    def __init__(self,x,y):\n",
    "        self.x=x\n",
    "        self.y=y\n",
    "    def show(self):\n",
    "        return self.x, self.y\n",
    "    def move(self,a,b):\n",
    "        return self.x+a,self.y+b\n",
    "    def dist(self,x1,y1):\n",
    "        return sqrt((x1-self.x)**2+(y1-self.y)**2)\n",
    "\n",
    "n=Point(3,4)\n",
    "print(n.show())\n",
    "\n",
    "print(n.move(1,4))\n",
    "\n",
    "print(n.dist(3,7))"
   ]
  },
  {
   "cell_type": "code",
   "execution_count": 15,
   "metadata": {},
   "outputs": [
    {
     "name": "stdout",
     "output_type": "stream",
     "text": [
      "2000\n",
      "False\n"
     ]
    }
   ],
   "source": [
    "class Account:\n",
    "    def __init__(self,owner,balance):\n",
    "        self.owner=owner\n",
    "        self.balance=balance\n",
    "\n",
    "\n",
    "    def deposit(self,deposits):\n",
    "        return deposits\n",
    "    def withdraw(self,withdraws):\n",
    "        if withdraws>self.balance:\n",
    "            return False\n",
    "        else:\n",
    "            return f\"You recieved {withdraws} amount of money\"\n",
    "        \n",
    "customer=Account('Imangali',10000)\n",
    "print(customer.deposit(2000))\n",
    "print(customer.withdraw(70000))"
   ]
  }
 ],
 "metadata": {
  "kernelspec": {
   "display_name": "Python 3",
   "language": "python",
   "name": "python3"
  },
  "language_info": {
   "codemirror_mode": {
    "name": "ipython",
    "version": 3
   },
   "file_extension": ".py",
   "mimetype": "text/x-python",
   "name": "python",
   "nbconvert_exporter": "python",
   "pygments_lexer": "ipython3",
   "version": "3.9.6"
  }
 },
 "nbformat": 4,
 "nbformat_minor": 2
}
