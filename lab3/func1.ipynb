{
 "cells": [
  {
   "cell_type": "code",
   "execution_count": 4,
   "metadata": {},
   "outputs": [
    {
     "name": "stdout",
     "output_type": "stream",
     "text": [
      "141.7476155\n"
     ]
    }
   ],
   "source": [
    "def ounces(f:float):\n",
    "    result=f*28.3495231\n",
    "    return result\n",
    "grams=5\n",
    "\n",
    "print(ounces(grams))"
   ]
  },
  {
   "cell_type": "code",
   "execution_count": 3,
   "metadata": {},
   "outputs": [
    {
     "name": "stdout",
     "output_type": "stream",
     "text": [
      "-13.333333333333334\n"
     ]
    }
   ],
   "source": [
    "def centigrade(n):\n",
    "    r=(5/9)*(n-32)\n",
    "    return r\n",
    "\n",
    "f=8\n",
    "print(centigrade(f))"
   ]
  },
  {
   "cell_type": "code",
   "execution_count": 5,
   "metadata": {},
   "outputs": [
    {
     "name": "stdout",
     "output_type": "stream",
     "text": [
      "(23.0, 12.0)\n"
     ]
    }
   ],
   "source": [
    "def solve(numheads, numlegs):\n",
    "    chicken = (2 * numheads) - (numlegs/2)\n",
    "    rabbits = (numlegs/2) - numheads\n",
    "    return chicken, rabbits\n",
    "\n",
    "numheads=35\n",
    "numlegs=94\n",
    "print(solve(int(numheads),int(numlegs)))"
   ]
  },
  {
   "cell_type": "code",
   "execution_count": 4,
   "metadata": {},
   "outputs": [
    {
     "name": "stdout",
     "output_type": "stream",
     "text": [
      "[1, 2, 3, 5, 7, 11, 1, 2, 41, 23]\n"
     ]
    }
   ],
   "source": [
    "\n",
    "\n",
    "def lter_prime (list1:list):\n",
    "    prime_numbers=[]\n",
    "    for i in list1:\n",
    "        cnt=0\n",
    "        for j in range(2,i):\n",
    "            if i%j==0:\n",
    "                cnt+=1\n",
    "        if cnt==0:\n",
    "            prime_numbers.append(i)\n",
    "    return prime_numbers\n",
    "\n",
    "numbers=[1,2,3,4,5,6,7,8,9,10,11,12,14,1,4,2,2123,432,12,41,32,4234,23]\n",
    "print(lter_prime(numbers))"
   ]
  },
  {
   "cell_type": "code",
   "execution_count": 2,
   "metadata": {},
   "outputs": [
    {
     "name": "stdout",
     "output_type": "stream",
     "text": [
      "('U', 'S', 'A')\n",
      "('U', 'A', 'S')\n",
      "('S', 'U', 'A')\n",
      "('S', 'A', 'U')\n",
      "('A', 'U', 'S')\n",
      "('A', 'S', 'U')\n"
     ]
    }
   ],
   "source": [
    "from itertools import permutations\n",
    "def get_permutation(string):\n",
    "    for i in list(permutations(string)):\n",
    "        print(i)\n",
    "perm = \"USA\"\n",
    "get_permutation(perm)"
   ]
  },
  {
   "cell_type": "code",
   "execution_count": 4,
   "metadata": {},
   "outputs": [
    {
     "name": "stdout",
     "output_type": "stream",
     "text": [
      " \n",
      "U\n",
      " \n",
      "T\n",
      " \n",
      "B\n",
      " \n",
      "K\n"
     ]
    }
   ],
   "source": [
    "\n",
    "def revers(s:str):\n",
    "    for i in range(len(s)-1,-1,-1):\n",
    "        print(s[i])\n",
    "\n",
    "\n",
    "\n",
    "revers(\"K B T U \")"
   ]
  },
  {
   "cell_type": "code",
   "execution_count": 7,
   "metadata": {},
   "outputs": [
    {
     "name": "stdout",
     "output_type": "stream",
     "text": [
      "True\n"
     ]
    }
   ],
   "source": [
    "def has_33(nums):\n",
    "    for i in range(len(nums)-1):\n",
    "        if nums[i]==3:\n",
    "            if nums[i-1]==3 or nums[i+1]==3:\n",
    "                return True\n",
    "    return False\n",
    "\n",
    "print(has_33([1, 3, 3, 1]))"
   ]
  },
  {
   "cell_type": "code",
   "execution_count": 8,
   "metadata": {},
   "outputs": [
    {
     "name": "stdout",
     "output_type": "stream",
     "text": [
      "True\n",
      "True\n",
      "False\n"
     ]
    }
   ],
   "source": [
    "\n",
    "def spy_game(nums:list):\n",
    "    result=[]\n",
    "    for i in nums:\n",
    "        if i==0 or i==7:\n",
    "            result.append(i)\n",
    "    if result[0]==0 and result[1]==0 and result[2]==7:\n",
    "        return True\n",
    "    else:\n",
    "        return False\n",
    "    \n",
    "print(spy_game([1,2,4,0,0,7,5]))\n",
    "print(spy_game([1,0,2,4,0,5,7]))\n",
    "print(spy_game([1,7,2,0,4,5,0]))"
   ]
  },
  {
   "cell_type": "code",
   "execution_count": 11,
   "metadata": {},
   "outputs": [
    {
     "data": {
      "text/plain": [
       "65416.666666666664"
      ]
     },
     "execution_count": 11,
     "metadata": {},
     "output_type": "execute_result"
    }
   ],
   "source": [
    "def volume_sphere(r:int):\n",
    "    volume=(4/3)*3.14*(r**3)\n",
    "    return volume\n",
    "\n",
    "volume_sphere(25)"
   ]
  },
  {
   "cell_type": "code",
   "execution_count": 13,
   "metadata": {},
   "outputs": [
    {
     "data": {
      "text/plain": [
       "[1, 2, 3, 5, 8, 32]"
      ]
     },
     "execution_count": 13,
     "metadata": {},
     "output_type": "execute_result"
    }
   ],
   "source": [
    "\n",
    "def unique(list1:list):\n",
    "    result=[]\n",
    "    for i in list1:\n",
    "        if i not in result:\n",
    "            result.append(i)\n",
    "    return result\n",
    "\n",
    "unique([1,2,3,5,8,2,1,2,32,1])"
   ]
  },
  {
   "cell_type": "code",
   "execution_count": 16,
   "metadata": {},
   "outputs": [
    {
     "data": {
      "text/plain": [
       "True"
      ]
     },
     "execution_count": 16,
     "metadata": {},
     "output_type": "execute_result"
    }
   ],
   "source": [
    "def polindrom(s:str):\n",
    "    r=''\n",
    "    for i in range(len(s)-1,-1,-1):\n",
    "        r+=s[i]\n",
    "        \n",
    "\n",
    "    if s==r:\n",
    "        return True\n",
    "    else:\n",
    "        return False\n",
    "    \n",
    "    \n",
    "polindrom(\"kazak\")"
   ]
  },
  {
   "cell_type": "code",
   "execution_count": 18,
   "metadata": {},
   "outputs": [
    {
     "name": "stdout",
     "output_type": "stream",
     "text": [
      "* * * * * \n",
      "\n",
      "* * * * * \n",
      "\n",
      "* * * * * * * \n",
      "\n"
     ]
    }
   ],
   "source": [
    "def histogram(n):\n",
    "    for i in n:\n",
    "        for j in range(0,i):\n",
    "            print('*',end=' ')\n",
    "        print(\"\\n\")\n",
    "\n",
    "histogram([5,5,7])"
   ]
  },
  {
   "cell_type": "code",
   "execution_count": null,
   "metadata": {},
   "outputs": [
    {
     "name": "stdout",
     "output_type": "stream",
     "text": [
      "Hello! What is your name?\n"
     ]
    }
   ],
   "source": [
    "import random\n",
    "\n",
    "def guess_the_number():\n",
    "    print(\"Hello! What is your name?\")\n",
    "    name = input()\n",
    "\n",
    "    print(f\"\\nWell, {name}, I am thinking of a number between 1 and 20.\")\n",
    "\n",
    "    secret_number = random.randint(1, 20)\n",
    "    attempts = 0\n",
    "\n",
    "    while True:\n",
    "        print(\"Take a guess.\")\n",
    "        try:\n",
    "            guess = int(input())\n",
    "            attempts += 1\n",
    "\n",
    "            if guess < secret_number:\n",
    "                print(\"Your guess is too low.\")\n",
    "            elif guess > secret_number:\n",
    "                print(\"Your guess is too high.\")\n",
    "            else:\n",
    "                print(f\"Good job, {name}! You guessed my number in {attempts} guesses!\")\n",
    "                break\n",
    "        except ValueError:\n",
    "            print(\"Please enter a valid number between 1 and 20.\")\n",
    "\n",
    "guess_the_number()"
   ]
  }
 ],
 "metadata": {
  "kernelspec": {
   "display_name": "Python 3",
   "language": "python",
   "name": "python3"
  },
  "language_info": {
   "codemirror_mode": {
    "name": "ipython",
    "version": 3
   },
   "file_extension": ".py",
   "mimetype": "text/x-python",
   "name": "python",
   "nbconvert_exporter": "python",
   "pygments_lexer": "ipython3",
   "version": "3.9.6"
  }
 },
 "nbformat": 4,
 "nbformat_minor": 2
}
