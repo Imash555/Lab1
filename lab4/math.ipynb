{
 "cells": [
  {
   "cell_type": "code",
   "execution_count": 1,
   "metadata": {},
   "outputs": [
    {
     "name": "stdout",
     "output_type": "stream",
     "text": [
      "3.0 degrees is equal to 0.05235987755982989 radians\n"
     ]
    }
   ],
   "source": [
    "import math\n",
    "\n",
    "def degrees_to_radians(degrees):\n",
    "    return degrees * (math.pi / 180)\n",
    "\n",
    "degrees = float(input(\"Enter degrees: \"))\n",
    "radians = degrees_to_radians(degrees)\n",
    "print(f\"{degrees} degrees is equal to {radians} radians\")"
   ]
  },
  {
   "cell_type": "code",
   "execution_count": 2,
   "metadata": {},
   "outputs": [
    {
     "name": "stdout",
     "output_type": "stream",
     "text": [
      "The area of the trapezoid is: 17.5\n"
     ]
    }
   ],
   "source": [
    "def trapezoid_area(base1, base2, height):\n",
    "    return ((base1 + base2) * height) / 2\n",
    "\n",
    "base1 = float(input(\"Enter the first base length: \"))\n",
    "base2 = float(input(\"Enter the second base length: \"))\n",
    "height = float(input(\"Enter the height: \"))\n",
    "\n",
    "area = trapezoid_area(base1, base2, height)\n",
    "\n",
    "print(f\"The area of the trapezoid is: {area}\")"
   ]
  },
  {
   "cell_type": "code",
   "execution_count": 3,
   "metadata": {},
   "outputs": [
    {
     "name": "stdout",
     "output_type": "stream",
     "text": [
      "The area of the polygon is: 25.0\n"
     ]
    }
   ],
   "source": [
    "import math\n",
    "\n",
    "def regular_polygon_area(n, s):\n",
    "    return (n * s**2) / (4 * math.tan(math.pi / n))\n",
    "\n",
    "n = int(input(\"Enter the number of sides: \"))\n",
    "s = float(input(\"Enter the length of a side: \"))\n",
    "\n",
    "area = regular_polygon_area(n, s)\n",
    "\n",
    "print(f\"The area of the polygon is: {round(area, 2)}\")"
   ]
  },
  {
   "cell_type": "code",
   "execution_count": 4,
   "metadata": {},
   "outputs": [
    {
     "name": "stdout",
     "output_type": "stream",
     "text": [
      "The area of the parallelogram is: 20.0\n"
     ]
    }
   ],
   "source": [
    "def parallelogram_area(base, height):\n",
    "    return base * height\n",
    "\n",
    "base = float(input(\"Enter the base length: \"))\n",
    "height = float(input(\"Enter the height: \"))\n",
    "\n",
    "area = parallelogram_area(base, height)\n",
    "\n",
    "print(f\"The area of the parallelogram is: {round(area, 2)}\")"
   ]
  }
 ],
 "metadata": {
  "kernelspec": {
   "display_name": "Python 3",
   "language": "python",
   "name": "python3"
  },
  "language_info": {
   "codemirror_mode": {
    "name": "ipython",
    "version": 3
   },
   "file_extension": ".py",
   "mimetype": "text/x-python",
   "name": "python",
   "nbconvert_exporter": "python",
   "pygments_lexer": "ipython3",
   "version": "3.9.6"
  }
 },
 "nbformat": 4,
 "nbformat_minor": 2
}
